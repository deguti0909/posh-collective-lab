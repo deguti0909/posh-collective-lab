{
 "cells": [
  {
   "cell_type": "markdown",
   "id": "921f0809",
   "metadata": {},
   "source": [
    "# Modelo Random Forest Balanceado\n",
    "Este notebook entrena un modelo Random Forest con ajuste para clases balanceadas."
   ]
  },
  {
   "cell_type": "code",
   "execution_count": 1,
   "id": "3508bc70",
   "metadata": {},
   "outputs": [
    {
     "name": "stdout",
     "output_type": "stream",
     "text": [
      "✅ Model trained and saved as modelo_random_forest_balanced.pkl\n"
     ]
    }
   ],
   "source": [
    "import pandas as pd\n",
    "from sklearn.ensemble import RandomForestClassifier\n",
    "import joblib\n",
    "\n",
    "# Load dataset\n",
    "df = pd.read_csv(\"fitness_dt.csv\")\n",
    "\n",
    "# Prepare features and labels\n",
    "categorical_cols = [\"Gender\", \"Workout Type\", \"Workout Intensity\", \"Mood Before Workout\"]\n",
    "X = pd.get_dummies(df.drop(columns=[\"Mood After Workout\"]), columns=categorical_cols, drop_first=False)\n",
    "y = df[\"Mood After Workout\"]\n",
    "\n",
    "# Train balanced model\n",
    "model = RandomForestClassifier(n_estimators=200, max_depth=15, class_weight='balanced', random_state=42)\n",
    "model.fit(X, y)\n",
    "\n",
    "# Save model\n",
    "joblib.dump(model, \"modelo_random_forest_balanced.pkl\")\n",
    "print(\"✅ Model trained and saved as modelo_random_forest_balanced.pkl\")\n"
   ]
  }
 ],
 "metadata": {
  "kernelspec": {
   "display_name": "venv",
   "language": "python",
   "name": "python3"
  },
  "language_info": {
   "codemirror_mode": {
    "name": "ipython",
    "version": 3
   },
   "file_extension": ".py",
   "mimetype": "text/x-python",
   "name": "python",
   "nbconvert_exporter": "python",
   "pygments_lexer": "ipython3",
   "version": "3.12.6"
  }
 },
 "nbformat": 4,
 "nbformat_minor": 5
}
